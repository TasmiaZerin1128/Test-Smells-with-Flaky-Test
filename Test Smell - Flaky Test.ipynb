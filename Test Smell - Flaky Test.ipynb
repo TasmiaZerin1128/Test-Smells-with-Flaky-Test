{
 "cells": [
  {
   "cell_type": "markdown",
   "metadata": {
    "id": "Fgcs5Es0xZkv"
   },
   "source": [
    "Unique row in jnose data"
   ]
  },
  {
   "cell_type": "code",
   "execution_count": null,
   "metadata": {
    "id": "1KkMflkJxX2_"
   },
   "outputs": [],
   "source": [
    "import pandas as pd\n",
    "\n",
    "# Load the data\n",
    "data = pd.read_csv('/content/TS_Dataset.csv')\n",
    "\n",
    "unique_rows = data.drop_duplicates()\n",
    "\n",
    "unique_rows_count = len(unique_rows)\n",
    "\n",
    "print(f\"Number of unique rows: {unique_rows_count}\")\n",
    "\n",
    "unique_rows.to_csv('/content/unique_rows.csv', index=False)\n",
    "\n",
    "print(\"\\nThe unique rows have been saved as 'unique_rows.csv'.\")\n"
   ]
  },
  {
   "cell_type": "markdown",
   "metadata": {
    "id": "XGzFECStxfzW"
   },
   "source": [
    "Mapping - Smelly Flaky"
   ]
  },
  {
   "cell_type": "code",
   "execution_count": null,
   "metadata": {
    "colab": {
     "base_uri": "https://localhost:8080/"
    },
    "executionInfo": {
     "elapsed": 692,
     "status": "ok",
     "timestamp": 1740514973667,
     "user": {
      "displayName": "Md. Arif Hasan",
      "userId": "17276050326543671662"
     },
     "user_tz": -360
    },
    "id": "P0VqS2PVuvzC",
    "outputId": "2293fdb4-6279-4a34-e6a6-757bff9c60d9"
   },
   "outputs": [],
   "source": [
    "import pandas as pd\n",
    "\n",
    "_smells = pd.read_csv(\"/content/unique_rows.csv\")\n",
    "_flaky = pd.read_csv(\"/content/flaky.csv\")\n",
    "\n",
    "print(\"Initial row counts:\")\n",
    "print(f\"_smells rows: {len(_smells)}\")\n",
    "print(f\"_flaky rows: {len(_flaky)}\")\n",
    "\n",
    "_flaky['methodName'] = _flaky['Fully-Qualified Test Name (packageName.ClassName.methodName)'].str.split('.').str[-1]\n",
    "\n",
    "\n",
    "_smells_unique = _smells.drop_duplicates(subset=['testSmellMethod'])\n",
    "_flaky_unique = _flaky.drop_duplicates(subset=['methodName'])\n",
    "\n",
    "print(\"\\nUnique row counts after deduplication:\")\n",
    "print(f\"_smells_unique rows: {len(_smells_unique)}\")\n",
    "print(f\"_flaky_unique rows: {len(_flaky_unique)}\")\n",
    "\n",
    "# Step 3: Merge datasets where testSmellMethod matches methodName\n",
    "merged_df = pd.merge(\n",
    "    _smells_unique,\n",
    "    _flaky_unique,\n",
    "    left_on='testSmellMethod',\n",
    "    right_on='methodName',\n",
    "    how='inner' \n",
    ")\n",
    "\n",
    "curated_columns = [\n",
    "    'projectName', 'name', 'pathFile', 'productionFile', 'loc', 'qtdMethods',\n",
    "    'testSmellName', 'testSmellMethod', 'testSmellLineBegin', 'testSmellLineEnd',\n",
    "    'methodNameFullHash', 'methodCode', 'Project URL', 'Module Path',\n",
    "    'Fully-Qualified Test Name (packageName.ClassName.methodName)', 'Category', 'Status'\n",
    "]\n",
    "\n",
    "mapped_dataset = merged_df.reindex(columns=curated_columns)\n",
    "\n",
    "mapped_dataset.to_csv('/content/TSFK_dataset.csv', index=False)\n",
    "\n",
    "print(\"\\nFinal Mapped Dataset Info:\")\n",
    "print(f\"Total rows: {len(mapped_dataset)}\")\n",
    "print(f\"Columns: {list(mapped_dataset.columns)}\")\n",
    "print(\"\\nFirst 5 rows of the mapped dataset:\")\n",
    "print(mapped_dataset.head())"
   ]
  },
  {
   "cell_type": "markdown",
   "metadata": {
    "id": "7s0WEIS1yDp-"
   },
   "source": [
    "Prevalance of smells"
   ]
  },
  {
   "cell_type": "code",
   "execution_count": null,
   "metadata": {
    "colab": {
     "base_uri": "https://localhost:8080/",
     "height": 1000
    },
    "executionInfo": {
     "elapsed": 2487,
     "status": "ok",
     "timestamp": 1740603546056,
     "user": {
      "displayName": "Md. Arif Hasan",
      "userId": "17276050326543671662"
     },
     "user_tz": -360
    },
    "id": "9o65kcHeCx5N",
    "outputId": "1c57e3e4-ed3a-48ae-a6da-3e4c3b4287a9"
   },
   "outputs": [],
   "source": [
    "import pandas as pd\n",
    "import matplotlib.pyplot as plt\n",
    "from google.colab import files\n",
    "\n",
    "data = pd.read_csv('/content/unique_rows.csv')\n",
    "\n",
    "missing_values = data['testSmellName'].isnull().sum()\n",
    "print(f\"Number of missing/null values in 'testSmellName': {missing_values}\")\n",
    "\n",
    "test_smell_frequency = data['testSmellName'].value_counts(dropna=False)\n",
    "\n",
    "print(\"\\nFrequency of each test smell (including missing/null values):\")\n",
    "print(test_smell_frequency)\n",
    "\n",
    "total_count = test_smell_frequency.sum()\n",
    "print(f\"\\nTotal count of test smells: {total_count}\")\n",
    "print(f\"Total rows in the dataset: {len(data)}\")\n",
    "\n",
    "csv_path = '/content/TS_frequency.csv'\n",
    "test_smell_frequency.to_csv(csv_path, header=True)\n",
    "\n",
    "chart_path = '/content/TS_frequency_chart.png'\n",
    "\n",
    "plt.figure(figsize=(6, 4))\n",
    "ax = test_smell_frequency.plot(kind='bar', color='gray', width=0.8)\n",
    "plt.title('Frequency of Test Smells', fontsize=12, fontweight='bold')\n",
    "plt.xlabel('Test Smell Name', fontsize=10)\n",
    "plt.ylabel('Frequency', fontsize=10)\n",
    "plt.xticks(rotation=45, ha='right', fontsize=9)\n",
    "plt.yticks(fontsize=9)\n",
    "plt.tight_layout()\n",
    "\n",
    "plt.savefig(chart_path, dpi=300, bbox_inches='tight', facecolor='white')\n",
    "\n",
    "plt.show()\n",
    "\n",
    "print(\"\\nThe frequency results have been saved as 'test_smell_frequency.csv'.\")\n",
    "print(\"The bar chart has been saved as 'test_smell_frequency_chart.png'.\")\n",
    "\n",
    "files.download(csv_path)\n",
    "files.download(chart_path)\n"
   ]
  },
  {
   "cell_type": "markdown",
   "metadata": {
    "id": "8tOq2br90SJ3"
   },
   "source": []
  },
  {
   "cell_type": "markdown",
   "metadata": {
    "id": "MkXl427z0ew1"
   },
   "source": [
    "Find Occurrences of Test Smell in Projects"
   ]
  },
  {
   "cell_type": "code",
   "execution_count": null,
   "metadata": {
    "colab": {
     "base_uri": "https://localhost:8080/"
    },
    "executionInfo": {
     "elapsed": 674,
     "status": "ok",
     "timestamp": 1740515749988,
     "user": {
      "displayName": "Md. Arif Hasan",
      "userId": "17276050326543671662"
     },
     "user_tz": -360
    },
    "id": "aZBXHpcC0j5t",
    "outputId": "7766aada-af04-467d-a975-aef0abdffb88"
   },
   "outputs": [],
   "source": [
    "import pandas as pd\n",
    "\n",
    "data = pd.read_csv('/content/unique_rows.csv')\n",
    "\n",
    "unique_projects = data['projectName'].nunique()\n",
    "print(f\"Number of unique projects: {unique_projects}\")\n",
    "\n",
    "project_smell_frequencies = data.groupby('projectName')['testSmellName'].value_counts(dropna=False).unstack(fill_value=0)\n",
    "\n",
    "print(\"\\nUnique test smells and their frequencies for each project:\")\n",
    "print(project_smell_frequencies)\n",
    "\n",
    "project_smell_frequencies.to_csv('/content/project_VS_smell_frequencies.csv')\n",
    "\n",
    "print(\"\\nThe project smell frequencies have been saved as 'project_smell_frequencies.csv'.\")\n"
   ]
  },
  {
   "cell_type": "markdown",
   "metadata": {
    "id": "bx4_G_Di12TN"
   },
   "source": [
    "#Ei 20 ta project er row gula newa from pr-data"
   ]
  },
  {
   "cell_type": "code",
   "execution_count": null,
   "metadata": {
    "id": "zPMaX8yr196d"
   },
   "outputs": [],
   "source": []
  },
  {
   "cell_type": "markdown",
   "metadata": {
    "id": "gpdVRCl-1obG"
   },
   "source": [
    "Find Occurrences of Flaky Tests in Projects\n",
    "\n",
    "\n"
   ]
  },
  {
   "cell_type": "code",
   "execution_count": null,
   "metadata": {
    "colab": {
     "base_uri": "https://localhost:8080/",
     "height": 1000
    },
    "executionInfo": {
     "elapsed": 663,
     "status": "ok",
     "timestamp": 1740517127959,
     "user": {
      "displayName": "Md. Arif Hasan",
      "userId": "17276050326543671662"
     },
     "user_tz": -360
    },
    "id": "2Lfc2mVL2XbO",
    "outputId": "f3eab6ae-906e-4fe0-c2d3-b67ce8139833"
   },
   "outputs": [],
   "source": [
    "import pandas as pd\n",
    "import matplotlib.pyplot as plt\n",
    "\n",
    "data = pd.read_csv('/content/flaky.csv')\n",
    "\n",
    "category_analysis = data.groupby(['Project URL', 'Category']).size().reset_index(name='count')\n",
    "\n",
    "flakiness_matrix = category_analysis.pivot(index='Project URL', columns='Category', values='count').fillna(0)\n",
    "\n",
    "print(\"\\nFlakiness types for each project and their corresponding counts in matrix format:\")\n",
    "print(flakiness_matrix)\n",
    "\n",
    "flakiness_matrix.to_csv('/content/ALL_project_flakiness_matrix.csv')\n",
    "\n",
    "\n",
    "flakiness_counts = category_analysis['Category'].value_counts()\n",
    "\n",
    "plt.figure(figsize=(10, 6))\n",
    "flakiness_counts.plot(kind='bar', color='skyblue')\n",
    "plt.title('Frequency of Each Flakiness Type')\n",
    "plt.xlabel('Flakiness Type')\n",
    "plt.ylabel('Frequency')\n",
    "plt.xticks(rotation=45, ha='right')\n",
    "plt.tight_layout()\n",
    "plt.show()\n"
   ]
  },
  {
   "cell_type": "markdown",
   "metadata": {
    "id": "7tC-NJBGYGNb"
   },
   "source": [
    "#all flakiness and 20 projects"
   ]
  },
  {
   "cell_type": "code",
   "execution_count": null,
   "metadata": {
    "colab": {
     "base_uri": "https://localhost:8080/"
    },
    "executionInfo": {
     "elapsed": 44,
     "status": "ok",
     "timestamp": 1740609187837,
     "user": {
      "displayName": "Md. Arif Hasan",
      "userId": "17276050326543671662"
     },
     "user_tz": -360
    },
    "id": "beSgctPmYJPq",
    "outputId": "4c56b723-9ecf-4cb0-975d-f09055f1d9d6"
   },
   "outputs": [],
   "source": [
    "import pandas as pd\n",
    "\n",
    "data = pd.read_csv('/content/Dataset - ALL_project_flakiness_matrix.csv')\n",
    "projects_to_keep = [\n",
    "    \"Mapper\", \"Sentinel\", \"adyen-java-api-library\", \"aem-core-wcm-components\",\n",
    "    \"airlift\", \"alibabacloud-tairjedis-sdk\", \"asset-share-commons\", \"asyncload\",\n",
    "    \"druid\", \"easy-retry\", \"fastjson2\", \"ignite-3\", \"innodb-java-reader\",\n",
    "    \"jackson-dataformats-binary\", \"jetcache\", \"mercury\", \"metrics\", \"tamper\",\n",
    "    \"testable-mock\", \"wasp\"\n",
    "]\n",
    "\n",
    "data['Project Name'] = data['Project URL'].apply(lambda x: x.split('/')[-1])\n",
    "\n",
    "filtered_data = data[data['Project Name'].isin(projects_to_keep)]\n",
    "\n",
    "filtered_data.to_csv('/content/filtered_projects.csv', index=False)\n",
    "\n",
    "print(\"\\nFiltered Projects Data:\")\n",
    "print(filtered_data)\n",
    "print(\"\\nThe filtered projects data has been saved as 'filtered_projects.csv'.\")\n"
   ]
  },
  {
   "cell_type": "markdown",
   "metadata": {
    "id": "2wNm6OombmuG"
   },
   "source": [
    "#for 20 projects"
   ]
  },
  {
   "cell_type": "code",
   "execution_count": null,
   "metadata": {
    "colab": {
     "base_uri": "https://localhost:8080/",
     "height": 1000
    },
    "executionInfo": {
     "elapsed": 750,
     "status": "ok",
     "timestamp": 1740525994568,
     "user": {
      "displayName": "Md. Arif Hasan",
      "userId": "17276050326543671662"
     },
     "user_tz": -360
    },
    "id": "KQ2HiC-Qbo5U",
    "outputId": "013324e4-f331-4dba-80d0-405c88ac6fa0"
   },
   "outputs": [],
   "source": [
    "import pandas as pd\n",
    "import matplotlib.pyplot as plt\n",
    "\n",
    "# Load the data\n",
    "data = pd.read_csv('/content/flaky.csv')\n",
    "\n",
    "# Extract project name from Project URL (assuming it's the last part after '/')\n",
    "data['Project Name'] = data['Project URL'].apply(lambda x: x.rstrip('/').split('/')[-1])\n",
    "\n",
    "# Define the list of 20 projects to keep\n",
    "selected_projects = {\n",
    "    \"Mapper\", \"Sentinel\", \"adyen-java-api-library\", \"aem-core-wcm-components\", \"airlift\",\n",
    "    \"alibabacloud-tairjedis-sdk\", \"asset-share-commons\", \"asyncload\", \"druid\", \"easy-retry\",\n",
    "    \"fastjson2\", \"ignite-3\", \"innodb-java-reader\", \"jackson-dataformats-binary\", \"jetcache\",\n",
    "    \"mercury\", \"metrics\", \"tamper\", \"testable-mock\", \"wasp\"\n",
    "}\n",
    "\n",
    "# Filter data to include only selected projects\n",
    "data = data[data['Project Name'].isin(selected_projects)]\n",
    "\n",
    "# Step 1: Analyze the 'Category' column and count the flakiness occurrences per project\n",
    "category_analysis = data.groupby(['Project Name', 'Category']).size().reset_index(name='count')\n",
    "\n",
    "# Step 2: Pivot the data to create a matrix format\n",
    "flakiness_matrix = category_analysis.pivot(index='Project Name', columns='Category', values='count').fillna(0)\n",
    "\n",
    "# Display the result\n",
    "print(\"\\nFlakiness types for each project and their corresponding counts in matrix format:\")\n",
    "print(flakiness_matrix)\n",
    "\n",
    "# Save the result as a CSV file\n",
    "flakiness_matrix.to_csv('/content/selected_project_flakiness_matrix.csv')\n",
    "print(\"\\nThe project flakiness analysis has been saved as 'selected_project_flakiness_matrix.csv'.\")\n",
    "\n",
    "# Step 3: Plot the frequency bar chart for each flakiness type\n",
    "flakiness_counts = category_analysis['Category'].value_counts()\n",
    "\n",
    "# Create the bar chart\n",
    "plt.figure(figsize=(10, 6))\n",
    "flakiness_counts.plot(kind='bar', color='skyblue')\n",
    "plt.title('Frequency of Each Flakiness Type')\n",
    "plt.xlabel('Flakiness Type')\n",
    "plt.ylabel('Frequency')\n",
    "plt.xticks(rotation=45, ha='right')\n",
    "plt.tight_layout()\n",
    "\n",
    "# Show the plot\n",
    "plt.show()\n"
   ]
  },
  {
   "cell_type": "markdown",
   "metadata": {
    "id": "8q7IAofa6DWO"
   },
   "source": [
    "**Keep only prominent 4 types of flakiness**\n",
    "\n",
    "\n",
    "\n"
   ]
  },
  {
   "cell_type": "code",
   "execution_count": null,
   "metadata": {
    "colab": {
     "base_uri": "https://localhost:8080/",
     "height": 937
    },
    "executionInfo": {
     "elapsed": 439,
     "status": "ok",
     "timestamp": 1740517251988,
     "user": {
      "displayName": "Md. Arif Hasan",
      "userId": "17276050326543671662"
     },
     "user_tz": -360
    },
    "id": "LClzSfS26KPW",
    "outputId": "5f8cb7ad-3de4-4fb6-ce62-c712a0eede87"
   },
   "outputs": [],
   "source": [
    "import pandas as pd\n",
    "import matplotlib.pyplot as plt\n",
    "\n",
    "data = pd.read_csv('/content/flaky.csv')\n",
    "\n",
    "data['Project Name'] = data['Project URL'].apply(lambda x: x.split('/')[-1])\n",
    "\n",
    "category_analysis = data.groupby(['Project Name', 'Category']).size().reset_index(name='count')\n",
    "\n",
    "top_4_flakiness = category_analysis['Category'].value_counts().nlargest(4).index\n",
    "\n",
    "filtered_category_analysis = category_analysis[category_analysis['Category'].isin(top_4_flakiness)]\n",
    "\n",
    "flakiness_matrix = filtered_category_analysis.pivot(index='Project Name', columns='Category', values='count').fillna(0)\n",
    "\n",
    "print(\"\\nFlakiness types for each project and their corresponding counts (only top 5 types) in matrix format:\")\n",
    "print(flakiness_matrix)\n",
    "\n",
    "\n",
    "flakiness_matrix.to_csv('/content/Top_4_project_flakiness_matrix.csv')\n",
    "\n",
    "\n",
    "print(\"\\nThe top 4 project flakiness analysis has been saved as 'Top_4_project_flakiness_matrix.csv'.\")\n",
    "\n",
    "flakiness_counts_top_4 = filtered_category_analysis['Category'].value_counts()\n",
    "\n",
    "plt.figure(figsize=(10, 6))\n",
    "flakiness_counts_top_4.plot(kind='bar', color='skyblue')\n",
    "plt.title('Top 4 Frequency of Flakiness Types')\n",
    "plt.xlabel('Flakiness Type')\n",
    "plt.ylabel('Frequency')\n",
    "plt.xticks(rotation=45, ha='right')\n",
    "plt.tight_layout()\n",
    "plt.show()\n"
   ]
  },
  {
   "cell_type": "markdown",
   "metadata": {
    "id": "fzEptzNJ_ML_"
   },
   "source": [
    "# TS FK correlation"
   ]
  },
  {
   "cell_type": "code",
   "execution_count": null,
   "metadata": {
    "colab": {
     "base_uri": "https://localhost:8080/",
     "height": 842
    },
    "executionInfo": {
     "elapsed": 2690,
     "status": "ok",
     "timestamp": 1740518559871,
     "user": {
      "displayName": "Md. Arif Hasan",
      "userId": "17276050326543671662"
     },
     "user_tz": -360
    },
    "id": "7st0u0-MEpk8",
    "outputId": "0df63f08-c420-47d5-f5f1-d526ed41419e"
   },
   "outputs": [],
   "source": [
    "import pandas as pd\n",
    "import seaborn as sns\n",
    "import matplotlib.pyplot as plt\n",
    "\n",
    "data = pd.read_csv('/content/20_TSFK_COMBO.csv')\n",
    "\n",
    "flakiness_columns = [\n",
    "    \"Assertion Roulette\", \"Conditional Test Logic\", \"Constructor Initialization\",\n",
    "    \"Duplicate Assert\", \"Eager Test\", \"EmptyTest\", \"Exception Catching Throwing\",\n",
    "    \"General Fixture\", \"IgnoredTest\", \"Lazy Test\", \"Magic Number Test\",\n",
    "    \"Mystery Guest\", \"Print Statement\", \"Redundant Assertion\", \"Resource Optimism\",\n",
    "    \"Sensitive Equality\", \"Sleepy Test\", \"Unknown Test\", \"Verbose Test\"\n",
    "]\n",
    "\n",
    "other_columns = [\"ID\", \"NOD\", \"OD\", \"OD-Vic\"]\n",
    "\n",
    "filtered_data = data[flakiness_columns + other_columns]\n",
    "\n",
    "correlation_matrix = filtered_data.corr(method='spearman')\n",
    "\n",
    "correlation_matrix.to_csv('/content/spearman_correlation_matrix.csv')\n",
    "\n",
    "plt.figure(figsize=(12, 8))\n",
    "sns.heatmap(correlation_matrix, annot=True, cmap='coolwarm', fmt='.2f', linewidths=0.5)\n",
    "plt.title('Spearman Correlation Heatmap between Flakiness Types and Project Metrics', fontsize=16)\n",
    "plt.tight_layout()\n",
    "plt.show()\n",
    "\n",
    "print(\"\\nSpearman correlation matrix has been saved as 'spearman_correlation_matrix.csv'.\")\n"
   ]
  },
  {
   "cell_type": "markdown",
   "metadata": {
    "id": "FE8aJ9auAKYg"
   },
   "source": [
    "#Filtered Heatmap"
   ]
  },
  {
   "cell_type": "code",
   "execution_count": null,
   "metadata": {
    "colab": {
     "base_uri": "https://localhost:8080/",
     "height": 718
    },
    "executionInfo": {
     "elapsed": 3428,
     "status": "ok",
     "timestamp": 1740605184449,
     "user": {
      "displayName": "Md. Arif Hasan",
      "userId": "17276050326543671662"
     },
     "user_tz": -360
    },
    "id": "8c017OdGAPR2",
    "outputId": "4db274b9-542b-48ac-832f-21d3fdb39906"
   },
   "outputs": [],
   "source": [
    "import pandas as pd\n",
    "import seaborn as sns\n",
    "import matplotlib.pyplot as plt\n",
    "\n",
    "df = pd.read_csv('/content/spearman_correlation_matrix_TSFK.csv', index_col=0)\n",
    "\n",
    "columns_to_keep = ['ID', 'NOD', 'OD', 'OD-Vic']\n",
    "\n",
    "index_to_keep = [\n",
    "    'Assertion Roulette', 'Conditional Test Logic', 'Constructor Initialization',\n",
    "    'Duplicate Assert', 'Eager Test', 'EmptyTest', 'Exception Catching Throwing',\n",
    "    'General Fixture', 'IgnoredTest', 'Lazy Test', 'Magic Number Test', 'Mystery Guest',\n",
    "    'Print Statement', 'Redundant Assertion', 'Resource Optimism', 'Sensitive Equality',\n",
    "    'Sleepy Test', 'Unknown Test', 'Verbose Test'\n",
    "]\n",
    "\n",
    "filtered_df = df.loc[index_to_keep, columns_to_keep]\n",
    "\n",
    "plt.figure(figsize=(10, 8))\n",
    "sns.heatmap(filtered_df, annot=True, cmap='coolwarm', fmt='.2f', linewidths=0.5)\n",
    "\n",
    "plt.title(\"Filtered Correlation Heatmap\")\n",
    "plt.xlabel('Test Categories')\n",
    "plt.ylabel('Test Cases')\n",
    "plt.show()\n",
    "\n",
    "# Save the filtered data to a new CSV (optional)\n",
    "filtered_df.to_csv('/content/filtered_heatmap.csv', index=True)\n"
   ]
  },
  {
   "cell_type": "markdown",
   "metadata": {
    "id": "OfeIINzaB_sl"
   },
   "source": [
    "# Significance"
   ]
  },
  {
   "cell_type": "code",
   "execution_count": null,
   "metadata": {
    "colab": {
     "base_uri": "https://localhost:8080/",
     "height": 824
    },
    "executionInfo": {
     "elapsed": 769,
     "status": "ok",
     "timestamp": 1740605475164,
     "user": {
      "displayName": "Md. Arif Hasan",
      "userId": "17276050326543671662"
     },
     "user_tz": -360
    },
    "id": "dGHSrHmnCBrd",
    "outputId": "1dce16ec-d52d-4b5f-f85e-3d4fd6586ec8"
   },
   "outputs": [],
   "source": [
    "import pandas as pd\n",
    "import numpy as np\n",
    "from scipy.stats import t\n",
    "import seaborn as sns\n",
    "import matplotlib.pyplot as plt\n",
    "\n",
    "# Data from your provided table\n",
    "data = {\n",
    "    'Smells Name': ['Assertion Roulette', 'Conditional Test Logic', 'Constructor Initialization',\n",
    "                    'Duplicate Assert', 'Eager Test', 'EmptyTest', 'Exception Catching Throwing',\n",
    "                    'General Fixture', 'IgnoredTest', 'Lazy Test', 'Magic Number Test',\n",
    "                    'Mystery Guest', 'Print Statement', 'Redundant Assertion', 'Resource Optimism',\n",
    "                    'Sensitive Equality', 'Sleepy Test', 'Unknown Test', 'Verbose Test'],\n",
    "    'ID': [0.3837945947, 0.2869365078, 0.3198117193, 0.2617129525, 0.4066156391, 0.1478101162,\n",
    "           0.3523641011, 0.4859859818, 0.2465690068, 0.3778286912, 0.4047169576, 0.2503716789,\n",
    "           0.1725349117, 0.2175405406, 0.3058848929, 0.4440452583, -0.03132093892, 0.4589919716,\n",
    "           0.2523770663],\n",
    "    'NOD': [0.3712414186, 0.4709077868, 0.3848436998, 0.3434998942, 0.3695873995, 0.2505408773,\n",
    "            0.2908361592, 0.09756566537, 0.262434638, 0.3127277996, 0.393970485, 0.1103735496,\n",
    "            0.2961916451, 0.5430240888, 0.09134282393, 0.5096051749, 0.4536745075, 0.1786836534,\n",
    "            0.438103865],\n",
    "    'OD': [0.2971779072, 0.4906726393, 0.3116918607, 0.3526087765, 0.3065008816, 0.3458628886,\n",
    "           0.5005632066, 0.2314075986, 0.3421774429, 0.2838937243, 0.4014508571, 0.1152560345,\n",
    "           0.4402765073, 0.6018400053, 0.09055305203, 0.3921198188, 0.4253088895, 0.2773155047,\n",
    "           0.3349776998],\n",
    "    'OD-Vic': [-0.1278086926, 0.06388582158, 0.01090465857, -0.0378948328, -0.08917623154,\n",
    "               0.3659288565, 0.2024359594, 0.04165073453, 0.009057580871, -0.08047611139,\n",
    "               -0.06781685731, 0.154407501, 0.3457175445, 0.07714206152, 0.1253058177,\n",
    "               -0.1745708541, 0.09869286212, 0.03533903602, -0.04831709259]\n",
    "}\n",
    "\n",
    "df = pd.DataFrame(data)\n",
    "df.set_index('Smells Name', inplace=True)\n",
    "\n",
    "n = 30\n",
    "def calculate_p_value(rho, n):\n",
    "    rho = np.clip(rho, -0.999, 0.999)\n",
    "    t_stat = rho * np.sqrt((n - 2) / (1 - rho**2))\n",
    "    p_val = 2 * (1 - t.cdf(np.abs(t_stat), df=n-2))\n",
    "    return p_val\n",
    "\n",
    "p_values = df.apply(lambda x: [calculate_p_value(r, n) for r in x], axis=0)\n",
    "p_values.index = df.index\n",
    "\n",
    "significance_df = (p_values < 0.05).astype(int)\n",
    "\n",
    "plt.figure(figsize=(10, 8))\n",
    "sns.heatmap(significance_df, annot=True, cmap='binary', fmt='d', linewidths=0.5, cbar=False)\n",
    "plt.title(f\"Significance Heatmap (1 = Significant, 0 = Not Significant, n = {n})\")\n",
    "plt.xlabel('Metrics')\n",
    "plt.ylabel('Test Smells')\n",
    "plt.tight_layout()\n",
    "plt.show()\n",
    "\n",
    "significance_df.to_csv('20VS4_significance_heatmap.csv', index=True)\n",
    "print(\"Significance matrix saved to '20VS4_significance_heatmap.csv'\")"
   ]
  }
 ],
 "metadata": {
  "colab": {
   "provenance": []
  },
  "kernelspec": {
   "display_name": "base",
   "language": "python",
   "name": "python3"
  },
  "language_info": {
   "codemirror_mode": {
    "name": "ipython",
    "version": 3
   },
   "file_extension": ".py",
   "mimetype": "text/x-python",
   "name": "python",
   "nbconvert_exporter": "python",
   "pygments_lexer": "ipython3",
   "version": "3.12.7"
  }
 },
 "nbformat": 4,
 "nbformat_minor": 0
}
